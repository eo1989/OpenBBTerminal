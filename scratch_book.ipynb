{
 "cells": [
  {
   "cell_type": "code",
   "execution_count": 1,
   "metadata": {},
   "outputs": [
    {
     "data": {
      "text/plain": [
       "True"
      ]
     },
     "execution_count": 1,
     "metadata": {},
     "output_type": "execute_result"
    }
   ],
   "source": [
    "import dotenv as dt\n",
    "from dotenv import load_dotenv as ldt\n",
    "from openbb_terminal.sdk import openbb as ob\n",
    "import pandas as pd\n",
    "\n",
    "ldt(dotenv_path=dt.find_dotenv(\"api.env\"))"
   ]
  },
  {
   "cell_type": "code",
   "execution_count": 2,
   "metadata": {},
   "outputs": [
    {
     "data": {
      "text/html": [
       "<pre style=\"white-space:pre;overflow-x:auto;line-height:normal;font-family:Menlo,'DejaVu Sans Mono',consolas,'Courier New',monospace\">Creating session from email and password.\n",
       "</pre>\n"
      ],
      "text/plain": [
       "Creating session from email and password.\n"
      ]
     },
     "metadata": {},
     "output_type": "display_data"
    },
    {
     "data": {
      "text/html": [
       "<pre style=\"white-space:pre;overflow-x:auto;line-height:normal;font-family:Menlo,'DejaVu Sans Mono',consolas,'Courier New',monospace\"><span style=\"color: #008000; text-decoration-color: #008000\">Login successful.</span>\n",
       "</pre>\n"
      ],
      "text/plain": [
       "\u001b[32mLogin successful.\u001b[0m\n"
      ]
     },
     "metadata": {},
     "output_type": "display_data"
    }
   ],
   "source": [
    "eo_login = ob.login(email = f\"{dt.get_key(dotenv_path='api.env', key_to_get='EMAIL')}\", password = f\"{dt.get_key(dotenv_path='api.env', key_to_get='PASSWORD')}\")\n"
   ]
  },
  {
   "cell_type": "code",
   "execution_count": 9,
   "metadata": {},
   "outputs": [
    {
     "data": {
      "text/html": [
       "<pre style=\"white-space:pre;overflow-x:auto;line-height:normal;font-family:Menlo,'DejaVu Sans Mono',consolas,'Courier New',monospace\">Loading Intraday 1440min data for CCL with starting period 2023-01-03.\n",
       "</pre>\n"
      ],
      "text/plain": [
       "Loading Intraday 1440min data for CCL with starting period 2023-01-03.\n"
      ]
     },
     "metadata": {},
     "output_type": "display_data"
    },
    {
     "name": "stdout",
     "output_type": "stream",
     "text": [
      "            Open  High   Low  Close  Adj Close    Volume  Dividends  \\\n",
      "date                                                                  \n",
      "2023-01-03  8.24  8.32  7.92   7.97       7.97  33965200        0.0   \n",
      "2023-01-04  8.07  8.76  7.98   8.74       8.74  52046600        0.0   \n",
      "2023-01-05  8.57  8.99  8.47   8.95       8.95  35689900        0.0   \n",
      "2023-01-06  9.00  9.23  8.83   9.20       9.20  40099600        0.0   \n",
      "2023-01-09  9.26  9.64  9.21   9.47       9.47  44454500        0.0   \n",
      "\n",
      "            Stock Splits  \n",
      "date                      \n",
      "2023-01-03           0.0  \n",
      "2023-01-04           0.0  \n",
      "2023-01-05           0.0  \n",
      "2023-01-06           0.0  \n",
      "2023-01-09           0.0  \n"
     ]
    }
   ],
   "source": [
    "df_daily = ob.stocks.load(symbol = \"CCL\", start_date = \"2023-01-01\", interval = \"1440\", verbose = True)\n",
    "\n",
    "\n",
    "ccl_df_day = df_daily.copy()\n",
    "\n",
    "print(df_daily.head())"
   ]
  },
  {
   "cell_type": "code",
   "execution_count": 13,
   "metadata": {},
   "outputs": [
    {
     "name": "stdout",
     "output_type": "stream",
     "text": [
      "Index(['Open', 'High', 'Low', 'Close', 'Adj Close', 'Volume', 'Dividends',\n",
      "       'Stock Splits'],\n",
      "      dtype='object')\n",
      "=======================================\n",
      "<class 'pandas.core.frame.DataFrame'>\n",
      "DatetimeIndex: 123 entries, 2023-01-03 to 2023-06-29\n",
      "Data columns (total 8 columns):\n",
      " #   Column        Non-Null Count  Dtype  \n",
      "---  ------        --------------  -----  \n",
      " 0   Open          123 non-null    float64\n",
      " 1   High          123 non-null    float64\n",
      " 2   Low           123 non-null    float64\n",
      " 3   Close         123 non-null    float64\n",
      " 4   Adj Close     123 non-null    float64\n",
      " 5   Volume        123 non-null    int64  \n",
      " 6   Dividends     123 non-null    float64\n",
      " 7   Stock Splits  123 non-null    float64\n",
      "dtypes: float64(7), int64(1)\n",
      "memory usage: 8.6 KB\n",
      "=======================================\n",
      "=======================================\n",
      "=======================================\n",
      "=======================================\n"
     ]
    },
    {
     "ename": "KeyError",
     "evalue": "'date'",
     "output_type": "error",
     "traceback": [
      "\u001b[1;31m---------------------------------------------------------------------------\u001b[0m",
      "\u001b[1;31mKeyError\u001b[0m                                  Traceback (most recent call last)",
      "File \u001b[1;32mc:\\Users\\eorlo\\AppData\\Local\\pypoetry\\Cache\\virtualenvs\\openbb-yXgMajA9-py3.10\\lib\\site-packages\\pandas\\core\\indexes\\base.py:3802\u001b[0m, in \u001b[0;36mIndex.get_loc\u001b[1;34m(self, key, method, tolerance)\u001b[0m\n\u001b[0;32m   3801\u001b[0m \u001b[39mtry\u001b[39;00m:\n\u001b[1;32m-> 3802\u001b[0m     \u001b[39mreturn\u001b[39;00m \u001b[39mself\u001b[39;49m\u001b[39m.\u001b[39;49m_engine\u001b[39m.\u001b[39;49mget_loc(casted_key)\n\u001b[0;32m   3803\u001b[0m \u001b[39mexcept\u001b[39;00m \u001b[39mKeyError\u001b[39;00m \u001b[39mas\u001b[39;00m err:\n",
      "File \u001b[1;32mc:\\Users\\eorlo\\AppData\\Local\\pypoetry\\Cache\\virtualenvs\\openbb-yXgMajA9-py3.10\\lib\\site-packages\\pandas\\_libs\\index.pyx:138\u001b[0m, in \u001b[0;36mpandas._libs.index.IndexEngine.get_loc\u001b[1;34m()\u001b[0m\n",
      "File \u001b[1;32mc:\\Users\\eorlo\\AppData\\Local\\pypoetry\\Cache\\virtualenvs\\openbb-yXgMajA9-py3.10\\lib\\site-packages\\pandas\\_libs\\index.pyx:165\u001b[0m, in \u001b[0;36mpandas._libs.index.IndexEngine.get_loc\u001b[1;34m()\u001b[0m\n",
      "File \u001b[1;32mpandas\\_libs\\hashtable_class_helper.pxi:5745\u001b[0m, in \u001b[0;36mpandas._libs.hashtable.PyObjectHashTable.get_item\u001b[1;34m()\u001b[0m\n",
      "File \u001b[1;32mpandas\\_libs\\hashtable_class_helper.pxi:5753\u001b[0m, in \u001b[0;36mpandas._libs.hashtable.PyObjectHashTable.get_item\u001b[1;34m()\u001b[0m\n",
      "\u001b[1;31mKeyError\u001b[0m: 'date'",
      "\nThe above exception was the direct cause of the following exception:\n",
      "\u001b[1;31mKeyError\u001b[0m                                  Traceback (most recent call last)",
      "Cell \u001b[1;32mIn[13], line 12\u001b[0m\n\u001b[0;32m     10\u001b[0m \u001b[39mprint\u001b[39m(\u001b[39m\"\u001b[39m\u001b[39m=======================================\u001b[39m\u001b[39m\"\u001b[39m)\n\u001b[0;32m     11\u001b[0m \u001b[39mprint\u001b[39m(\u001b[39m\"\u001b[39m\u001b[39m=======================================\u001b[39m\u001b[39m\"\u001b[39m)\n\u001b[1;32m---> 12\u001b[0m ccl_dff \u001b[39m=\u001b[39m ccl_df_day\u001b[39m.\u001b[39mreindex(index \u001b[39m=\u001b[39m ccl_df_day[\u001b[39m\"\u001b[39;49m\u001b[39mdate\u001b[39;49m\u001b[39m\"\u001b[39;49m])\n\u001b[0;32m     13\u001b[0m ccl_dff\n",
      "File \u001b[1;32mc:\\Users\\eorlo\\AppData\\Local\\pypoetry\\Cache\\virtualenvs\\openbb-yXgMajA9-py3.10\\lib\\site-packages\\pandas\\core\\frame.py:3807\u001b[0m, in \u001b[0;36mDataFrame.__getitem__\u001b[1;34m(self, key)\u001b[0m\n\u001b[0;32m   3805\u001b[0m \u001b[39mif\u001b[39;00m \u001b[39mself\u001b[39m\u001b[39m.\u001b[39mcolumns\u001b[39m.\u001b[39mnlevels \u001b[39m>\u001b[39m \u001b[39m1\u001b[39m:\n\u001b[0;32m   3806\u001b[0m     \u001b[39mreturn\u001b[39;00m \u001b[39mself\u001b[39m\u001b[39m.\u001b[39m_getitem_multilevel(key)\n\u001b[1;32m-> 3807\u001b[0m indexer \u001b[39m=\u001b[39m \u001b[39mself\u001b[39;49m\u001b[39m.\u001b[39;49mcolumns\u001b[39m.\u001b[39;49mget_loc(key)\n\u001b[0;32m   3808\u001b[0m \u001b[39mif\u001b[39;00m is_integer(indexer):\n\u001b[0;32m   3809\u001b[0m     indexer \u001b[39m=\u001b[39m [indexer]\n",
      "File \u001b[1;32mc:\\Users\\eorlo\\AppData\\Local\\pypoetry\\Cache\\virtualenvs\\openbb-yXgMajA9-py3.10\\lib\\site-packages\\pandas\\core\\indexes\\base.py:3804\u001b[0m, in \u001b[0;36mIndex.get_loc\u001b[1;34m(self, key, method, tolerance)\u001b[0m\n\u001b[0;32m   3802\u001b[0m     \u001b[39mreturn\u001b[39;00m \u001b[39mself\u001b[39m\u001b[39m.\u001b[39m_engine\u001b[39m.\u001b[39mget_loc(casted_key)\n\u001b[0;32m   3803\u001b[0m \u001b[39mexcept\u001b[39;00m \u001b[39mKeyError\u001b[39;00m \u001b[39mas\u001b[39;00m err:\n\u001b[1;32m-> 3804\u001b[0m     \u001b[39mraise\u001b[39;00m \u001b[39mKeyError\u001b[39;00m(key) \u001b[39mfrom\u001b[39;00m \u001b[39merr\u001b[39;00m\n\u001b[0;32m   3805\u001b[0m \u001b[39mexcept\u001b[39;00m \u001b[39mTypeError\u001b[39;00m:\n\u001b[0;32m   3806\u001b[0m     \u001b[39m# If we have a listlike key, _check_indexing_error will raise\u001b[39;00m\n\u001b[0;32m   3807\u001b[0m     \u001b[39m#  InvalidIndexError. Otherwise we fall through and re-raise\u001b[39;00m\n\u001b[0;32m   3808\u001b[0m     \u001b[39m#  the TypeError.\u001b[39;00m\n\u001b[0;32m   3809\u001b[0m     \u001b[39mself\u001b[39m\u001b[39m.\u001b[39m_check_indexing_error(key)\n",
      "\u001b[1;31mKeyError\u001b[0m: 'date'"
     ]
    }
   ],
   "source": [
    "# ccl_df_day = ccl_df_day.columns # drop(columns = [\"Dividends\", \"Stock Splits\"])\n",
    "print(ccl_df_day.columns)\n",
    "print(\"=======================================\")\n",
    "ccl_df_day.info()\n",
    "print(\"=======================================\")\n",
    "\n",
    "ccl_df_day.index\n",
    "\n",
    "print(\"=======================================\")\n",
    "print(\"=======================================\")\n",
    "print(\"=======================================\")\n",
    "ccl_dff = ccl_df_day.reindex(index = ccl_df_day[\"date\"])\n",
    "ccl_dff"
   ]
  },
  {
   "cell_type": "code",
   "execution_count": null,
   "metadata": {},
   "outputs": [],
   "source": [
    "# import pandas as pd\n",
    "\n",
    "\n",
    "# def format_date(date_str):\n",
    "# \treturn pd.to_datetime(date_str).strftime(\"%Y-%m-%d\")\n",
    "\n",
    "# ccl_df_day['date'] = ccl_df_day['date'].apply(format_date)\n",
    "# print(ccl_df_day.head())\n",
    "\n"
   ]
  },
  {
   "cell_type": "code",
   "execution_count": null,
   "metadata": {},
   "outputs": [],
   "source": []
  }
 ],
 "metadata": {
  "kernelspec": {
   "display_name": "openbb-yXgMajA9-py3.10",
   "language": "python",
   "name": "python3"
  },
  "language_info": {
   "codemirror_mode": {
    "name": "ipython",
    "version": 3
   },
   "file_extension": ".py",
   "mimetype": "text/x-python",
   "name": "python",
   "nbconvert_exporter": "python",
   "pygments_lexer": "ipython3",
   "version": "3.10.8"
  },
  "orig_nbformat": 4
 },
 "nbformat": 4,
 "nbformat_minor": 2
}
